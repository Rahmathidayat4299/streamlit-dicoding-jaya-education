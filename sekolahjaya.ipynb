{
 "cells": [
  {
   "cell_type": "markdown",
   "id": "1356188b",
   "metadata": {},
   "source": [
    "#   Proyek Akhir: Menyelesaikan Permasalahan Perusahaan Edutech\n",
    "## Nama: Rahmat Hidayat \n",
    "## Email: hrahmat950@gmail.com\n",
    "##   Id Dicoding:rahmathidayat9"
   ]
  },
  {
   "cell_type": "markdown",
   "id": "d6d1a4e6",
   "metadata": {},
   "source": [
    "#   Menyiapkan library yang dibutuhkan"
   ]
  },
  {
   "cell_type": "code",
   "execution_count": 3,
   "id": "2d1dc7ed",
   "metadata": {},
   "outputs": [],
   "source": [
    "import pandas as pd\n",
    "import numpy as np\n",
    "from sklearn.model_selection import train_test_split, GridSearchCV\n",
    "from sklearn.preprocessing import StandardScaler, LabelEncoder\n",
    "from sklearn.ensemble import RandomForestClassifier\n",
    "from sklearn.linear_model import LogisticRegression\n",
    "from sklearn.svm import SVC\n",
    "from sklearn.metrics import accuracy_score\n",
    "from sklearn.impute import SimpleImputer"
   ]
  },
  {
   "cell_type": "markdown",
   "id": "45f14685",
   "metadata": {},
   "source": [
    "# Menyiapkan data yang akan diguankan\n",
    "# Data Understanding"
   ]
  },
  {
   "cell_type": "code",
   "execution_count": 4,
   "id": "79b8b93b",
   "metadata": {},
   "outputs": [
    {
     "data": {
      "text/html": [
       "<div>\n",
       "<style scoped>\n",
       "    .dataframe tbody tr th:only-of-type {\n",
       "        vertical-align: middle;\n",
       "    }\n",
       "\n",
       "    .dataframe tbody tr th {\n",
       "        vertical-align: top;\n",
       "    }\n",
       "\n",
       "    .dataframe thead th {\n",
       "        text-align: right;\n",
       "    }\n",
       "</style>\n",
       "<table border=\"1\" class=\"dataframe\">\n",
       "  <thead>\n",
       "    <tr style=\"text-align: right;\">\n",
       "      <th></th>\n",
       "      <th>Marital_status</th>\n",
       "      <th>Application_mode</th>\n",
       "      <th>Application_order</th>\n",
       "      <th>Course</th>\n",
       "      <th>Daytime_evening_attendance</th>\n",
       "      <th>Previous_qualification</th>\n",
       "      <th>Previous_qualification_grade</th>\n",
       "      <th>Nacionality</th>\n",
       "      <th>Mothers_qualification</th>\n",
       "      <th>Fathers_qualification</th>\n",
       "      <th>...</th>\n",
       "      <th>Curricular_units_2nd_sem_credited</th>\n",
       "      <th>Curricular_units_2nd_sem_enrolled</th>\n",
       "      <th>Curricular_units_2nd_sem_evaluations</th>\n",
       "      <th>Curricular_units_2nd_sem_approved</th>\n",
       "      <th>Curricular_units_2nd_sem_grade</th>\n",
       "      <th>Curricular_units_2nd_sem_without_evaluations</th>\n",
       "      <th>Unemployment_rate</th>\n",
       "      <th>Inflation_rate</th>\n",
       "      <th>GDP</th>\n",
       "      <th>Status</th>\n",
       "    </tr>\n",
       "  </thead>\n",
       "  <tbody>\n",
       "    <tr>\n",
       "      <th>0</th>\n",
       "      <td>1</td>\n",
       "      <td>17</td>\n",
       "      <td>5</td>\n",
       "      <td>171</td>\n",
       "      <td>1</td>\n",
       "      <td>1</td>\n",
       "      <td>122.0</td>\n",
       "      <td>1</td>\n",
       "      <td>19</td>\n",
       "      <td>12</td>\n",
       "      <td>...</td>\n",
       "      <td>0</td>\n",
       "      <td>0</td>\n",
       "      <td>0</td>\n",
       "      <td>0</td>\n",
       "      <td>0.000000</td>\n",
       "      <td>0</td>\n",
       "      <td>10.8</td>\n",
       "      <td>1.4</td>\n",
       "      <td>1.74</td>\n",
       "      <td>Dropout</td>\n",
       "    </tr>\n",
       "    <tr>\n",
       "      <th>1</th>\n",
       "      <td>1</td>\n",
       "      <td>15</td>\n",
       "      <td>1</td>\n",
       "      <td>9254</td>\n",
       "      <td>1</td>\n",
       "      <td>1</td>\n",
       "      <td>160.0</td>\n",
       "      <td>1</td>\n",
       "      <td>1</td>\n",
       "      <td>3</td>\n",
       "      <td>...</td>\n",
       "      <td>0</td>\n",
       "      <td>6</td>\n",
       "      <td>6</td>\n",
       "      <td>6</td>\n",
       "      <td>13.666667</td>\n",
       "      <td>0</td>\n",
       "      <td>13.9</td>\n",
       "      <td>-0.3</td>\n",
       "      <td>0.79</td>\n",
       "      <td>Graduate</td>\n",
       "    </tr>\n",
       "    <tr>\n",
       "      <th>2</th>\n",
       "      <td>1</td>\n",
       "      <td>1</td>\n",
       "      <td>5</td>\n",
       "      <td>9070</td>\n",
       "      <td>1</td>\n",
       "      <td>1</td>\n",
       "      <td>122.0</td>\n",
       "      <td>1</td>\n",
       "      <td>37</td>\n",
       "      <td>37</td>\n",
       "      <td>...</td>\n",
       "      <td>0</td>\n",
       "      <td>6</td>\n",
       "      <td>0</td>\n",
       "      <td>0</td>\n",
       "      <td>0.000000</td>\n",
       "      <td>0</td>\n",
       "      <td>10.8</td>\n",
       "      <td>1.4</td>\n",
       "      <td>1.74</td>\n",
       "      <td>Dropout</td>\n",
       "    </tr>\n",
       "    <tr>\n",
       "      <th>3</th>\n",
       "      <td>1</td>\n",
       "      <td>17</td>\n",
       "      <td>2</td>\n",
       "      <td>9773</td>\n",
       "      <td>1</td>\n",
       "      <td>1</td>\n",
       "      <td>122.0</td>\n",
       "      <td>1</td>\n",
       "      <td>38</td>\n",
       "      <td>37</td>\n",
       "      <td>...</td>\n",
       "      <td>0</td>\n",
       "      <td>6</td>\n",
       "      <td>10</td>\n",
       "      <td>5</td>\n",
       "      <td>12.400000</td>\n",
       "      <td>0</td>\n",
       "      <td>9.4</td>\n",
       "      <td>-0.8</td>\n",
       "      <td>-3.12</td>\n",
       "      <td>Graduate</td>\n",
       "    </tr>\n",
       "    <tr>\n",
       "      <th>4</th>\n",
       "      <td>2</td>\n",
       "      <td>39</td>\n",
       "      <td>1</td>\n",
       "      <td>8014</td>\n",
       "      <td>0</td>\n",
       "      <td>1</td>\n",
       "      <td>100.0</td>\n",
       "      <td>1</td>\n",
       "      <td>37</td>\n",
       "      <td>38</td>\n",
       "      <td>...</td>\n",
       "      <td>0</td>\n",
       "      <td>6</td>\n",
       "      <td>6</td>\n",
       "      <td>6</td>\n",
       "      <td>13.000000</td>\n",
       "      <td>0</td>\n",
       "      <td>13.9</td>\n",
       "      <td>-0.3</td>\n",
       "      <td>0.79</td>\n",
       "      <td>Graduate</td>\n",
       "    </tr>\n",
       "  </tbody>\n",
       "</table>\n",
       "<p>5 rows × 37 columns</p>\n",
       "</div>"
      ],
      "text/plain": [
       "   Marital_status  Application_mode  Application_order  Course  \\\n",
       "0               1                17                  5     171   \n",
       "1               1                15                  1    9254   \n",
       "2               1                 1                  5    9070   \n",
       "3               1                17                  2    9773   \n",
       "4               2                39                  1    8014   \n",
       "\n",
       "   Daytime_evening_attendance  Previous_qualification  \\\n",
       "0                           1                       1   \n",
       "1                           1                       1   \n",
       "2                           1                       1   \n",
       "3                           1                       1   \n",
       "4                           0                       1   \n",
       "\n",
       "   Previous_qualification_grade  Nacionality  Mothers_qualification  \\\n",
       "0                         122.0            1                     19   \n",
       "1                         160.0            1                      1   \n",
       "2                         122.0            1                     37   \n",
       "3                         122.0            1                     38   \n",
       "4                         100.0            1                     37   \n",
       "\n",
       "   Fathers_qualification  ...  Curricular_units_2nd_sem_credited  \\\n",
       "0                     12  ...                                  0   \n",
       "1                      3  ...                                  0   \n",
       "2                     37  ...                                  0   \n",
       "3                     37  ...                                  0   \n",
       "4                     38  ...                                  0   \n",
       "\n",
       "   Curricular_units_2nd_sem_enrolled  Curricular_units_2nd_sem_evaluations  \\\n",
       "0                                  0                                     0   \n",
       "1                                  6                                     6   \n",
       "2                                  6                                     0   \n",
       "3                                  6                                    10   \n",
       "4                                  6                                     6   \n",
       "\n",
       "   Curricular_units_2nd_sem_approved  Curricular_units_2nd_sem_grade  \\\n",
       "0                                  0                        0.000000   \n",
       "1                                  6                       13.666667   \n",
       "2                                  0                        0.000000   \n",
       "3                                  5                       12.400000   \n",
       "4                                  6                       13.000000   \n",
       "\n",
       "   Curricular_units_2nd_sem_without_evaluations  Unemployment_rate  \\\n",
       "0                                             0               10.8   \n",
       "1                                             0               13.9   \n",
       "2                                             0               10.8   \n",
       "3                                             0                9.4   \n",
       "4                                             0               13.9   \n",
       "\n",
       "   Inflation_rate   GDP    Status  \n",
       "0             1.4  1.74   Dropout  \n",
       "1            -0.3  0.79  Graduate  \n",
       "2             1.4  1.74   Dropout  \n",
       "3            -0.8 -3.12  Graduate  \n",
       "4            -0.3  0.79  Graduate  \n",
       "\n",
       "[5 rows x 37 columns]"
      ]
     },
     "execution_count": 4,
     "metadata": {},
     "output_type": "execute_result"
    }
   ],
   "source": [
    "\n",
    "\n",
    "# Step 1: Load data\n",
    "cc_apps = pd.read_csv(\"../Jaya-Education/data.csv\",sep=';')\n",
    "cc_apps.head()"
   ]
  },
  {
   "cell_type": "code",
   "execution_count": 5,
   "id": "4c2a494e",
   "metadata": {},
   "outputs": [
    {
     "data": {
      "text/plain": [
       "Status\n",
       "Graduate    0.499322\n",
       "Dropout     0.321203\n",
       "Enrolled    0.179476\n",
       "Name: proportion, dtype: float64"
      ]
     },
     "execution_count": 5,
     "metadata": {},
     "output_type": "execute_result"
    }
   ],
   "source": [
    "cc_apps['Status'].value_counts(normalize=True)\n",
    "# Step 2: Preprocess data"
   ]
  },
  {
   "cell_type": "markdown",
   "id": "ca1221ea",
   "metadata": {},
   "source": [
    "## Data Preparation"
   ]
  },
  {
   "cell_type": "code",
   "execution_count": 6,
   "id": "10fb4bb1",
   "metadata": {},
   "outputs": [
    {
     "name": "stdout",
     "output_type": "stream",
     "text": [
      "{'Dropout': 0, 'Enrolled': 1, 'Graduate': 2}\n"
     ]
    }
   ],
   "source": [
    "# Contoh encode kolom 'Status' menjadi angka\n",
    "le = LabelEncoder()\n",
    "cc_apps['Status_encoded'] = le.fit_transform(cc_apps['Status'])\n",
    "# Mapping: lihat urutan label\n",
    "print(dict(zip(le.classes_, le.transform(le.classes_))))\n"
   ]
  },
  {
   "cell_type": "code",
   "execution_count": 7,
   "id": "475768bd",
   "metadata": {},
   "outputs": [
    {
     "data": {
      "text/plain": [
       "Index(['Marital_status', 'Application_mode', 'Application_order', 'Course',\n",
       "       'Daytime_evening_attendance', 'Previous_qualification',\n",
       "       'Previous_qualification_grade', 'Nacionality', 'Mothers_qualification',\n",
       "       'Fathers_qualification', 'Mothers_occupation', 'Fathers_occupation',\n",
       "       'Admission_grade', 'Displaced', 'Educational_special_needs', 'Debtor',\n",
       "       'Tuition_fees_up_to_date', 'Gender', 'Scholarship_holder',\n",
       "       'Age_at_enrollment', 'International',\n",
       "       'Curricular_units_1st_sem_credited',\n",
       "       'Curricular_units_1st_sem_enrolled',\n",
       "       'Curricular_units_1st_sem_evaluations',\n",
       "       'Curricular_units_1st_sem_approved', 'Curricular_units_1st_sem_grade',\n",
       "       'Curricular_units_1st_sem_without_evaluations',\n",
       "       'Curricular_units_2nd_sem_credited',\n",
       "       'Curricular_units_2nd_sem_enrolled',\n",
       "       'Curricular_units_2nd_sem_evaluations',\n",
       "       'Curricular_units_2nd_sem_approved', 'Curricular_units_2nd_sem_grade',\n",
       "       'Curricular_units_2nd_sem_without_evaluations', 'Unemployment_rate',\n",
       "       'Inflation_rate', 'GDP', 'Status', 'Status_encoded'],\n",
       "      dtype='object')"
      ]
     },
     "execution_count": 7,
     "metadata": {},
     "output_type": "execute_result"
    }
   ],
   "source": [
    "cc_apps.columns"
   ]
  },
  {
   "cell_type": "code",
   "execution_count": 8,
   "id": "ed524881",
   "metadata": {},
   "outputs": [
    {
     "name": "stdout",
     "output_type": "stream",
     "text": [
      "Shape setelah encode: (4424, 36)\n"
     ]
    }
   ],
   "source": [
    "import pandas as pd\n",
    "import numpy as np\n",
    "from sklearn.ensemble import RandomForestClassifier\n",
    "import matplotlib.pyplot as plt\n",
    "import seaborn as sns\n",
    "\n",
    "# Drop kolom target dari fitur\n",
    "X = cc_apps.drop(columns=['Status', 'Status_encoded'])\n",
    "y = cc_apps['Status_encoded']\n",
    "\n",
    "# Encode fitur kategorikal\n",
    "X_encoded = pd.get_dummies(X)\n",
    "\n",
    "print(f\"Shape setelah encode: {X_encoded.shape}\")\n"
   ]
  },
  {
   "cell_type": "code",
   "execution_count": 9,
   "id": "fad60685",
   "metadata": {},
   "outputs": [
    {
     "name": "stdout",
     "output_type": "stream",
     "text": [
      "Curricular_units_2nd_sem_approved    0.139741\n",
      "Curricular_units_2nd_sem_grade       0.112829\n",
      "Curricular_units_1st_sem_approved    0.090682\n",
      "Curricular_units_1st_sem_grade       0.060050\n",
      "Admission_grade                      0.043596\n",
      "Tuition_fees_up_to_date              0.040820\n",
      "dtype: float64\n"
     ]
    }
   ],
   "source": [
    "# Train model cepat\n",
    "model_rf = RandomForestClassifier(random_state=42)\n",
    "model_rf.fit(X_encoded, y)\n",
    "\n",
    "# Ambil feature importances\n",
    "feature_importances = pd.Series(model_rf.feature_importances_, index=X_encoded.columns)\n",
    "\n",
    "# Urutkan dari yang paling penting\n",
    "feature_importances_sorted = feature_importances.sort_values(ascending=False)\n",
    "\n",
    "# Ambil Top 6 fitur\n",
    "top6_features = feature_importances_sorted.head(6)\n",
    "print(top6_features)\n"
   ]
  },
  {
   "cell_type": "code",
   "execution_count": 10,
   "id": "5c644e85",
   "metadata": {},
   "outputs": [
    {
     "data": {
      "image/png": "[encoded data removed]",
      "text/plain": [
       "<Figure size 800x500 with 1 Axes>"
      ]
     },
     "metadata": {},
     "output_type": "display_data"
    }
   ],
   "source": [
    "plt.figure(figsize=(8,5))\n",
    "top6_features.plot(kind='barh')\n",
    "plt.gca().invert_yaxis()\n",
    "plt.title('Top 6 Feature Importances')\n",
    "plt.xlabel('Importance Score')\n",
    "plt.show()\n"
   ]
  },
  {
   "cell_type": "code",
   "execution_count": 11,
   "id": "a9ef78b7",
   "metadata": {},
   "outputs": [
    {
     "name": "stdout",
     "output_type": "stream",
     "text": [
      "Shape X_train: (3539, 36), y_train: (3539,)\n",
      "Shape X_test: (885, 36), y_test: (885,)\n"
     ]
    }
   ],
   "source": [
    "from sklearn.model_selection import train_test_split\n",
    "\n",
    "# Split data menjadi data pelatihan dan data uji (80% train, 20% test)\n",
    "X_train, X_test, y_train, y_test = train_test_split(X_encoded, y, test_size=0.2, random_state=42, stratify=y)\n",
    "\n",
    "# Tampilkan bentuk data untuk memastikan\n",
    "print(f\"Shape X_train: {X_train.shape}, y_train: {y_train.shape}\")\n",
    "print(f\"Shape X_test: {X_test.shape}, y_test: {y_test.shape}\")"
   ]
  },
  {
   "cell_type": "markdown",
   "id": "03044db8",
   "metadata": {},
   "source": [
    "# Modeling"
   ]
  },
  {
   "cell_type": "code",
   "execution_count": 12,
   "id": "4bc9f623",
   "metadata": {},
   "outputs": [
    {
     "name": "stdout",
     "output_type": "stream",
     "text": [
      "              precision    recall  f1-score   support\n",
      "\n",
      "           0     0.8123    0.7465    0.7780       284\n",
      "           1     0.5673    0.3711    0.4487       159\n",
      "           2     0.7846    0.9231    0.8482       442\n",
      "\n",
      "    accuracy                         0.7672       885\n",
      "   macro avg     0.7214    0.6802    0.6916       885\n",
      "weighted avg     0.7544    0.7672    0.7539       885\n",
      "\n"
     ]
    }
   ],
   "source": [
    "from sklearn.metrics import classification_report\n",
    "\n",
    "# Training model\n",
    "model_rf_final = RandomForestClassifier(random_state=42)\n",
    "model_rf_final.fit(X_train, y_train)\n",
    "\n",
    "# Prediksi\n",
    "y_pred = model_rf_final.predict(X_test)\n",
    "\n",
    "# Evaluasi hasil\n",
    "print(classification_report(y_test, y_pred, digits=4))\n"
   ]
  },
  {
   "cell_type": "markdown",
   "id": "19736de2",
   "metadata": {},
   "source": [
    "# Evaluation"
   ]
  },
  {
   "cell_type": "code",
   "execution_count": 13,
   "id": "92fbd93d",
   "metadata": {},
   "outputs": [
    {
     "name": "stdout",
     "output_type": "stream",
     "text": [
      "Hasil Prediksi: Dropout\n"
     ]
    },
    {
     "name": "stderr",
     "output_type": "stream",
     "text": [
      "c:\\Users\\hrahm\\anaconda3\\Lib\\site-packages\\sklearn\\utils\\validation.py:2739: UserWarning: X does not have valid feature names, but RandomForestClassifier was fitted with feature names\n",
      "  warnings.warn(\n"
     ]
    }
   ],
   "source": [
    "import pandas as pd\n",
    "import numpy as np\n",
    "\n",
    "# Contoh input data dalam bentuk DataFrame\n",
    "input_data_raw = pd.DataFrame({\n",
    "    'Curricular_units_2nd_sem_grade': [5.0],\n",
    "    'Curricular_units_2nd_sem_approved': [1],\n",
    "    'Curricular_units_1st_sem_grade': [4.0],\n",
    "    'Tuition_fees_up_to_date': [0],\n",
    "    'Curricular_units_1st_sem_approved': [1],\n",
    "    'Age_at_enrollment': [18]\n",
    "})\n",
    "\n",
    "# Encode data input menggunakan pd.get_dummies\n",
    "input_data_encoded = pd.get_dummies(input_data_raw)\n",
    "\n",
    "# Pastikan kolom input sama dengan kolom dataset pelatihan\n",
    "input_data_encoded = input_data_encoded.reindex(columns=X_encoded.columns, fill_value=0)\n",
    "\n",
    "# Periksa apakah jumlah kolom sesuai\n",
    "if input_data_encoded.shape[1] != X_encoded.shape[1]:\n",
    "    raise ValueError(f\"Input data has {input_data_encoded.shape[1]} features, but the model expects {X_encoded.shape[1]} features.\")\n",
    "\n",
    "# Konversi ke NumPy array\n",
    "input_data = input_data_encoded.to_numpy()\n",
    "\n",
    "# Lakukan prediksi\n",
    "prediction = model_rf_final.predict(input_data)\n",
    "\n",
    "# Mapping hasil prediksi ke label asli\n",
    "status_mapping = {0: \"Dropout\", 1: \"Enrolled\", 2: \"Graduate\"}  # Sesuaikan dengan encoding\n",
    "predicted_label = status_mapping[prediction[0]]\n",
    "\n",
    "# Tampilkan hasil prediksi\n",
    "print(f\"Hasil Prediksi: {predicted_label}\")"
   ]
  },
  {
   "cell_type": "code",
   "execution_count": 14,
   "id": "67486345",
   "metadata": {},
   "outputs": [
    {
     "name": "stdout",
     "output_type": "stream",
     "text": [
      "Model disimpan sebagai model/student_status_model.pkl\n"
     ]
    }
   ],
   "source": [
    "import os\n",
    "import joblib\n",
    "\n",
    "# Pastikan folder 'model' ada, jika belum maka buat\n",
    "os.makedirs(\"model\", exist_ok=True)\n",
    "\n",
    "# Simpan model yang sudah dilatih ke dalam folder 'model'\n",
    "model_filename = \"model/student_status_model.pkl\"\n",
    "joblib.dump(model_rf_final, model_filename)\n",
    "\n",
    "print(f\"Model disimpan sebagai {model_filename}\")\n"
   ]
  },
  {
   "cell_type": "code",
   "execution_count": 15,
   "id": "a9afa559",
   "metadata": {},
   "outputs": [],
   "source": [
    "# !pipreqs ."
   ]
  }
 ],
 "metadata": {
  "kernelspec": {
   "display_name": "base",
   "language": "python",
   "name": "python3"
  },
  "language_info": {
   "codemirror_mode": {
    "name": "ipython",
    "version": 3
   },
   "file_extension": ".py",
   "mimetype": "text/x-python",
   "name": "python",
   "nbconvert_exporter": "python",
   "pygments_lexer": "ipython3",
   "version": "3.12.4"
  }
 },
 "nbformat": 4,
 "nbformat_minor": 5
}
